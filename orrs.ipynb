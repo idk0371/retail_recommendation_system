{
 "cells": [
  {
   "cell_type": "markdown",
   "id": "2fe226a7-7ca7-43ba-b491-57c9c1072515",
   "metadata": {},
   "source": [
    "# **Installing Required Libraries**"
   ]
  },
  {
   "cell_type": "code",
   "execution_count": 3,
   "id": "1ba5b3db-126e-4124-9e3f-f26b5bde1aaf",
   "metadata": {
    "collapsed": true,
    "jupyter": {
     "outputs_hidden": true
    }
   },
   "outputs": [
    {
     "name": "stdout",
     "output_type": "stream",
     "text": [
      "Requirement already satisfied: openpyxl in c:\\users\\shailesh\\appdata\\local\\programs\\python\\python310\\lib\\site-packages (3.1.5)\n",
      "Requirement already satisfied: et-xmlfile in c:\\users\\shailesh\\appdata\\local\\programs\\python\\python310\\lib\\site-packages (from openpyxl) (2.0.0)\n",
      "Note: you may need to restart the kernel to use updated packages.\n"
     ]
    },
    {
     "name": "stderr",
     "output_type": "stream",
     "text": [
      "\n",
      "[notice] A new release of pip is available: 25.0.1 -> 25.1.1\n",
      "[notice] To update, run: python.exe -m pip install --upgrade pip\n"
     ]
    }
   ],
   "source": [
    "pip install openpyxl"
   ]
  },
  {
   "cell_type": "markdown",
   "id": "15eb2c59-06dd-43fe-bbfa-5208cb8a3904",
   "metadata": {},
   "source": [
    "# **Importing the libraries**"
   ]
  },
  {
   "cell_type": "code",
   "execution_count": 4,
   "id": "3a748c84-c475-4162-9000-28befd7c5cb1",
   "metadata": {},
   "outputs": [],
   "source": [
    "import pandas as pd\n",
    "import numpy as np"
   ]
  },
  {
   "cell_type": "markdown",
   "id": "5ec6ac77-240e-4693-b09f-fea032bae485",
   "metadata": {},
   "source": [
    "# **Load the Excel Dataset**"
   ]
  },
  {
   "cell_type": "code",
   "execution_count": 5,
   "id": "6e0fec05-d089-42fd-8d08-d49ad82c703a",
   "metadata": {},
   "outputs": [],
   "source": [
    "rproducts = pd.read_excel(\"OnlineRetail (1).xlsx\",engine='openpyxl')"
   ]
  },
  {
   "cell_type": "code",
   "execution_count": 6,
   "id": "ff7012ca-8418-488c-902a-c7214e79ff8a",
   "metadata": {
    "scrolled": true
   },
   "outputs": [
    {
     "data": {
      "text/html": [
       "<div>\n",
       "<style scoped>\n",
       "    .dataframe tbody tr th:only-of-type {\n",
       "        vertical-align: middle;\n",
       "    }\n",
       "\n",
       "    .dataframe tbody tr th {\n",
       "        vertical-align: top;\n",
       "    }\n",
       "\n",
       "    .dataframe thead th {\n",
       "        text-align: right;\n",
       "    }\n",
       "</style>\n",
       "<table border=\"1\" class=\"dataframe\">\n",
       "  <thead>\n",
       "    <tr style=\"text-align: right;\">\n",
       "      <th></th>\n",
       "      <th>InvoiceNo</th>\n",
       "      <th>StockCode</th>\n",
       "      <th>Description</th>\n",
       "      <th>Quantity</th>\n",
       "      <th>InvoiceDate</th>\n",
       "      <th>UnitPrice</th>\n",
       "      <th>CustomerID</th>\n",
       "      <th>Country</th>\n",
       "    </tr>\n",
       "  </thead>\n",
       "  <tbody>\n",
       "    <tr>\n",
       "      <th>0</th>\n",
       "      <td>536365</td>\n",
       "      <td>85123A</td>\n",
       "      <td>WHITE HANGING HEART T-LIGHT HOLDER</td>\n",
       "      <td>6</td>\n",
       "      <td>2010-12-01 08:26:00</td>\n",
       "      <td>2.55</td>\n",
       "      <td>17850.0</td>\n",
       "      <td>United Kingdom</td>\n",
       "    </tr>\n",
       "    <tr>\n",
       "      <th>1</th>\n",
       "      <td>536365</td>\n",
       "      <td>71053</td>\n",
       "      <td>WHITE METAL LANTERN</td>\n",
       "      <td>6</td>\n",
       "      <td>2010-12-01 08:26:00</td>\n",
       "      <td>3.39</td>\n",
       "      <td>17850.0</td>\n",
       "      <td>United Kingdom</td>\n",
       "    </tr>\n",
       "    <tr>\n",
       "      <th>2</th>\n",
       "      <td>536365</td>\n",
       "      <td>84406B</td>\n",
       "      <td>CREAM CUPID HEARTS COAT HANGER</td>\n",
       "      <td>8</td>\n",
       "      <td>2010-12-01 08:26:00</td>\n",
       "      <td>2.75</td>\n",
       "      <td>17850.0</td>\n",
       "      <td>United Kingdom</td>\n",
       "    </tr>\n",
       "    <tr>\n",
       "      <th>3</th>\n",
       "      <td>536365</td>\n",
       "      <td>84029G</td>\n",
       "      <td>KNITTED UNION FLAG HOT WATER BOTTLE</td>\n",
       "      <td>6</td>\n",
       "      <td>2010-12-01 08:26:00</td>\n",
       "      <td>3.39</td>\n",
       "      <td>17850.0</td>\n",
       "      <td>United Kingdom</td>\n",
       "    </tr>\n",
       "    <tr>\n",
       "      <th>4</th>\n",
       "      <td>536365</td>\n",
       "      <td>84029E</td>\n",
       "      <td>RED WOOLLY HOTTIE WHITE HEART.</td>\n",
       "      <td>6</td>\n",
       "      <td>2010-12-01 08:26:00</td>\n",
       "      <td>3.39</td>\n",
       "      <td>17850.0</td>\n",
       "      <td>United Kingdom</td>\n",
       "    </tr>\n",
       "  </tbody>\n",
       "</table>\n",
       "</div>"
      ],
      "text/plain": [
       "  InvoiceNo StockCode                          Description  Quantity  \\\n",
       "0    536365    85123A   WHITE HANGING HEART T-LIGHT HOLDER         6   \n",
       "1    536365     71053                  WHITE METAL LANTERN         6   \n",
       "2    536365    84406B       CREAM CUPID HEARTS COAT HANGER         8   \n",
       "3    536365    84029G  KNITTED UNION FLAG HOT WATER BOTTLE         6   \n",
       "4    536365    84029E       RED WOOLLY HOTTIE WHITE HEART.         6   \n",
       "\n",
       "          InvoiceDate  UnitPrice  CustomerID         Country  \n",
       "0 2010-12-01 08:26:00       2.55     17850.0  United Kingdom  \n",
       "1 2010-12-01 08:26:00       3.39     17850.0  United Kingdom  \n",
       "2 2010-12-01 08:26:00       2.75     17850.0  United Kingdom  \n",
       "3 2010-12-01 08:26:00       3.39     17850.0  United Kingdom  \n",
       "4 2010-12-01 08:26:00       3.39     17850.0  United Kingdom  "
      ]
     },
     "execution_count": 6,
     "metadata": {},
     "output_type": "execute_result"
    }
   ],
   "source": [
    "rproducts.head()"
   ]
  },
  {
   "cell_type": "markdown",
   "id": "4d3620fc-1d5a-4968-8c02-577364c4a290",
   "metadata": {},
   "source": [
    "# **Clean and Process the Data**"
   ]
  },
  {
   "cell_type": "code",
   "execution_count": 7,
   "id": "c1d66f64-d7ea-4c7d-a75a-8381015a7aa9",
   "metadata": {
    "collapsed": true,
    "jupyter": {
     "outputs_hidden": true
    },
    "scrolled": true
   },
   "outputs": [
    {
     "data": {
      "text/plain": [
       "InvoiceNo           0\n",
       "StockCode           0\n",
       "Description      1454\n",
       "Quantity            0\n",
       "InvoiceDate         0\n",
       "UnitPrice           0\n",
       "CustomerID     135080\n",
       "Country             0\n",
       "dtype: int64"
      ]
     },
     "execution_count": 7,
     "metadata": {},
     "output_type": "execute_result"
    }
   ],
   "source": [
    "rproducts.isnull().sum()"
   ]
  },
  {
   "cell_type": "code",
   "execution_count": 8,
   "id": "616d508f-f422-4bb1-9773-f05727287478",
   "metadata": {},
   "outputs": [],
   "source": [
    "#dropping rows which have null values for description and customerID\n",
    "rproducts.dropna(subset = ['CustomerID', 'Description'], inplace =True)"
   ]
  },
  {
   "cell_type": "code",
   "execution_count": 9,
   "id": "69f3c36c-5d2c-41b6-9bb8-17d27be01e2e",
   "metadata": {
    "collapsed": true,
    "jupyter": {
     "outputs_hidden": true
    },
    "scrolled": true
   },
   "outputs": [
    {
     "data": {
      "text/plain": [
       "InvoiceNo      0\n",
       "StockCode      0\n",
       "Description    0\n",
       "Quantity       0\n",
       "InvoiceDate    0\n",
       "UnitPrice      0\n",
       "CustomerID     0\n",
       "Country        0\n",
       "dtype: int64"
      ]
     },
     "execution_count": 9,
     "metadata": {},
     "output_type": "execute_result"
    }
   ],
   "source": [
    "#checking for the dataset now\n",
    "rproducts.isnull().sum()"
   ]
  },
  {
   "cell_type": "code",
   "execution_count": 10,
   "id": "6a271d60-2282-46cb-9631-541c94dcdfdc",
   "metadata": {},
   "outputs": [],
   "source": [
    "#now filtering out cancelled orders\n",
    "rproducts = rproducts[rproducts['Quantity']>0]"
   ]
  },
  {
   "cell_type": "code",
   "execution_count": 11,
   "id": "00359236-6beb-4830-b384-61f95ea4bcfa",
   "metadata": {},
   "outputs": [],
   "source": [
    "#calculating total price for each product\n",
    "rproducts['TotalPrice'] = rproducts['Quantity'] * rproducts['UnitPrice']"
   ]
  },
  {
   "cell_type": "code",
   "execution_count": 12,
   "id": "44d80f4b-a3a1-46fc-b6d1-a87931b0849d",
   "metadata": {
    "collapsed": true,
    "jupyter": {
     "outputs_hidden": true
    },
    "scrolled": true
   },
   "outputs": [
    {
     "data": {
      "text/html": [
       "<div>\n",
       "<style scoped>\n",
       "    .dataframe tbody tr th:only-of-type {\n",
       "        vertical-align: middle;\n",
       "    }\n",
       "\n",
       "    .dataframe tbody tr th {\n",
       "        vertical-align: top;\n",
       "    }\n",
       "\n",
       "    .dataframe thead th {\n",
       "        text-align: right;\n",
       "    }\n",
       "</style>\n",
       "<table border=\"1\" class=\"dataframe\">\n",
       "  <thead>\n",
       "    <tr style=\"text-align: right;\">\n",
       "      <th></th>\n",
       "      <th>InvoiceNo</th>\n",
       "      <th>StockCode</th>\n",
       "      <th>Description</th>\n",
       "      <th>Quantity</th>\n",
       "      <th>InvoiceDate</th>\n",
       "      <th>UnitPrice</th>\n",
       "      <th>CustomerID</th>\n",
       "      <th>Country</th>\n",
       "      <th>TotalPrice</th>\n",
       "    </tr>\n",
       "  </thead>\n",
       "  <tbody>\n",
       "    <tr>\n",
       "      <th>0</th>\n",
       "      <td>536365</td>\n",
       "      <td>85123A</td>\n",
       "      <td>WHITE HANGING HEART T-LIGHT HOLDER</td>\n",
       "      <td>6</td>\n",
       "      <td>2010-12-01 08:26:00</td>\n",
       "      <td>2.55</td>\n",
       "      <td>17850.0</td>\n",
       "      <td>United Kingdom</td>\n",
       "      <td>15.30</td>\n",
       "    </tr>\n",
       "    <tr>\n",
       "      <th>1</th>\n",
       "      <td>536365</td>\n",
       "      <td>71053</td>\n",
       "      <td>WHITE METAL LANTERN</td>\n",
       "      <td>6</td>\n",
       "      <td>2010-12-01 08:26:00</td>\n",
       "      <td>3.39</td>\n",
       "      <td>17850.0</td>\n",
       "      <td>United Kingdom</td>\n",
       "      <td>20.34</td>\n",
       "    </tr>\n",
       "    <tr>\n",
       "      <th>2</th>\n",
       "      <td>536365</td>\n",
       "      <td>84406B</td>\n",
       "      <td>CREAM CUPID HEARTS COAT HANGER</td>\n",
       "      <td>8</td>\n",
       "      <td>2010-12-01 08:26:00</td>\n",
       "      <td>2.75</td>\n",
       "      <td>17850.0</td>\n",
       "      <td>United Kingdom</td>\n",
       "      <td>22.00</td>\n",
       "    </tr>\n",
       "    <tr>\n",
       "      <th>3</th>\n",
       "      <td>536365</td>\n",
       "      <td>84029G</td>\n",
       "      <td>KNITTED UNION FLAG HOT WATER BOTTLE</td>\n",
       "      <td>6</td>\n",
       "      <td>2010-12-01 08:26:00</td>\n",
       "      <td>3.39</td>\n",
       "      <td>17850.0</td>\n",
       "      <td>United Kingdom</td>\n",
       "      <td>20.34</td>\n",
       "    </tr>\n",
       "    <tr>\n",
       "      <th>4</th>\n",
       "      <td>536365</td>\n",
       "      <td>84029E</td>\n",
       "      <td>RED WOOLLY HOTTIE WHITE HEART.</td>\n",
       "      <td>6</td>\n",
       "      <td>2010-12-01 08:26:00</td>\n",
       "      <td>3.39</td>\n",
       "      <td>17850.0</td>\n",
       "      <td>United Kingdom</td>\n",
       "      <td>20.34</td>\n",
       "    </tr>\n",
       "  </tbody>\n",
       "</table>\n",
       "</div>"
      ],
      "text/plain": [
       "  InvoiceNo StockCode                          Description  Quantity  \\\n",
       "0    536365    85123A   WHITE HANGING HEART T-LIGHT HOLDER         6   \n",
       "1    536365     71053                  WHITE METAL LANTERN         6   \n",
       "2    536365    84406B       CREAM CUPID HEARTS COAT HANGER         8   \n",
       "3    536365    84029G  KNITTED UNION FLAG HOT WATER BOTTLE         6   \n",
       "4    536365    84029E       RED WOOLLY HOTTIE WHITE HEART.         6   \n",
       "\n",
       "          InvoiceDate  UnitPrice  CustomerID         Country  TotalPrice  \n",
       "0 2010-12-01 08:26:00       2.55     17850.0  United Kingdom       15.30  \n",
       "1 2010-12-01 08:26:00       3.39     17850.0  United Kingdom       20.34  \n",
       "2 2010-12-01 08:26:00       2.75     17850.0  United Kingdom       22.00  \n",
       "3 2010-12-01 08:26:00       3.39     17850.0  United Kingdom       20.34  \n",
       "4 2010-12-01 08:26:00       3.39     17850.0  United Kingdom       20.34  "
      ]
     },
     "execution_count": 12,
     "metadata": {},
     "output_type": "execute_result"
    }
   ],
   "source": [
    "rproducts.head()"
   ]
  },
  {
   "cell_type": "code",
   "execution_count": 13,
   "id": "b4ce362c-90d2-4c1e-ad21-a67ee28a779a",
   "metadata": {},
   "outputs": [],
   "source": [
    "#extracting month for monthly analysis\n",
    "rproducts['Month'] = rproducts['InvoiceDate'].dt.month"
   ]
  },
  {
   "cell_type": "code",
   "execution_count": 14,
   "id": "dc1d2a1d-316c-4c0e-96e5-0015bda1c706",
   "metadata": {
    "collapsed": true,
    "jupyter": {
     "outputs_hidden": true
    },
    "scrolled": true
   },
   "outputs": [
    {
     "data": {
      "text/html": [
       "<div>\n",
       "<style scoped>\n",
       "    .dataframe tbody tr th:only-of-type {\n",
       "        vertical-align: middle;\n",
       "    }\n",
       "\n",
       "    .dataframe tbody tr th {\n",
       "        vertical-align: top;\n",
       "    }\n",
       "\n",
       "    .dataframe thead th {\n",
       "        text-align: right;\n",
       "    }\n",
       "</style>\n",
       "<table border=\"1\" class=\"dataframe\">\n",
       "  <thead>\n",
       "    <tr style=\"text-align: right;\">\n",
       "      <th></th>\n",
       "      <th>InvoiceNo</th>\n",
       "      <th>StockCode</th>\n",
       "      <th>Description</th>\n",
       "      <th>Quantity</th>\n",
       "      <th>InvoiceDate</th>\n",
       "      <th>UnitPrice</th>\n",
       "      <th>CustomerID</th>\n",
       "      <th>Country</th>\n",
       "      <th>TotalPrice</th>\n",
       "      <th>Month</th>\n",
       "    </tr>\n",
       "  </thead>\n",
       "  <tbody>\n",
       "    <tr>\n",
       "      <th>0</th>\n",
       "      <td>536365</td>\n",
       "      <td>85123A</td>\n",
       "      <td>WHITE HANGING HEART T-LIGHT HOLDER</td>\n",
       "      <td>6</td>\n",
       "      <td>2010-12-01 08:26:00</td>\n",
       "      <td>2.55</td>\n",
       "      <td>17850.0</td>\n",
       "      <td>United Kingdom</td>\n",
       "      <td>15.30</td>\n",
       "      <td>12</td>\n",
       "    </tr>\n",
       "    <tr>\n",
       "      <th>1</th>\n",
       "      <td>536365</td>\n",
       "      <td>71053</td>\n",
       "      <td>WHITE METAL LANTERN</td>\n",
       "      <td>6</td>\n",
       "      <td>2010-12-01 08:26:00</td>\n",
       "      <td>3.39</td>\n",
       "      <td>17850.0</td>\n",
       "      <td>United Kingdom</td>\n",
       "      <td>20.34</td>\n",
       "      <td>12</td>\n",
       "    </tr>\n",
       "    <tr>\n",
       "      <th>2</th>\n",
       "      <td>536365</td>\n",
       "      <td>84406B</td>\n",
       "      <td>CREAM CUPID HEARTS COAT HANGER</td>\n",
       "      <td>8</td>\n",
       "      <td>2010-12-01 08:26:00</td>\n",
       "      <td>2.75</td>\n",
       "      <td>17850.0</td>\n",
       "      <td>United Kingdom</td>\n",
       "      <td>22.00</td>\n",
       "      <td>12</td>\n",
       "    </tr>\n",
       "    <tr>\n",
       "      <th>3</th>\n",
       "      <td>536365</td>\n",
       "      <td>84029G</td>\n",
       "      <td>KNITTED UNION FLAG HOT WATER BOTTLE</td>\n",
       "      <td>6</td>\n",
       "      <td>2010-12-01 08:26:00</td>\n",
       "      <td>3.39</td>\n",
       "      <td>17850.0</td>\n",
       "      <td>United Kingdom</td>\n",
       "      <td>20.34</td>\n",
       "      <td>12</td>\n",
       "    </tr>\n",
       "    <tr>\n",
       "      <th>4</th>\n",
       "      <td>536365</td>\n",
       "      <td>84029E</td>\n",
       "      <td>RED WOOLLY HOTTIE WHITE HEART.</td>\n",
       "      <td>6</td>\n",
       "      <td>2010-12-01 08:26:00</td>\n",
       "      <td>3.39</td>\n",
       "      <td>17850.0</td>\n",
       "      <td>United Kingdom</td>\n",
       "      <td>20.34</td>\n",
       "      <td>12</td>\n",
       "    </tr>\n",
       "  </tbody>\n",
       "</table>\n",
       "</div>"
      ],
      "text/plain": [
       "  InvoiceNo StockCode                          Description  Quantity  \\\n",
       "0    536365    85123A   WHITE HANGING HEART T-LIGHT HOLDER         6   \n",
       "1    536365     71053                  WHITE METAL LANTERN         6   \n",
       "2    536365    84406B       CREAM CUPID HEARTS COAT HANGER         8   \n",
       "3    536365    84029G  KNITTED UNION FLAG HOT WATER BOTTLE         6   \n",
       "4    536365    84029E       RED WOOLLY HOTTIE WHITE HEART.         6   \n",
       "\n",
       "          InvoiceDate  UnitPrice  CustomerID         Country  TotalPrice  \\\n",
       "0 2010-12-01 08:26:00       2.55     17850.0  United Kingdom       15.30   \n",
       "1 2010-12-01 08:26:00       3.39     17850.0  United Kingdom       20.34   \n",
       "2 2010-12-01 08:26:00       2.75     17850.0  United Kingdom       22.00   \n",
       "3 2010-12-01 08:26:00       3.39     17850.0  United Kingdom       20.34   \n",
       "4 2010-12-01 08:26:00       3.39     17850.0  United Kingdom       20.34   \n",
       "\n",
       "   Month  \n",
       "0     12  \n",
       "1     12  \n",
       "2     12  \n",
       "3     12  \n",
       "4     12  "
      ]
     },
     "execution_count": 14,
     "metadata": {},
     "output_type": "execute_result"
    }
   ],
   "source": [
    "rproducts.head()"
   ]
  },
  {
   "cell_type": "markdown",
   "id": "1453c543-3cdc-461f-a97f-c3b44875ce4a",
   "metadata": {},
   "source": [
    "# **Displaying the most sold items globally** "
   ]
  },
  {
   "cell_type": "code",
   "execution_count": 15,
   "id": "ba0c3e9c-9b40-4c9f-ad85-0b925d66e0fc",
   "metadata": {},
   "outputs": [],
   "source": [
    "globalproducts = rproducts.groupby('Description')['Quantity'].sum().sort_values(ascending=False)"
   ]
  },
  {
   "cell_type": "code",
   "execution_count": 16,
   "id": "cc49ce22-203a-4981-9c85-52dc59a0617e",
   "metadata": {
    "collapsed": true,
    "jupyter": {
     "outputs_hidden": true
    },
    "scrolled": true
   },
   "outputs": [
    {
     "data": {
      "text/plain": [
       "Description\n",
       "PAPER CRAFT , LITTLE BIRDIE           80995\n",
       "MEDIUM CERAMIC TOP STORAGE JAR        77916\n",
       "WORLD WAR 2 GLIDERS ASSTD DESIGNS     54415\n",
       "JUMBO BAG RED RETROSPOT               46181\n",
       "WHITE HANGING HEART T-LIGHT HOLDER    36725\n",
       "ASSORTED COLOUR BIRD ORNAMENT         35362\n",
       "PACK OF 72 RETROSPOT CAKE CASES       33693\n",
       "POPCORN HOLDER                        30931\n",
       "RABBIT NIGHT LIGHT                    27202\n",
       "MINI PAINT SET VINTAGE                26076\n",
       "Name: Quantity, dtype: int64"
      ]
     },
     "execution_count": 16,
     "metadata": {},
     "output_type": "execute_result"
    }
   ],
   "source": [
    "globalproducts.head(10)"
   ]
  },
  {
   "cell_type": "code",
   "execution_count": 17,
   "id": "776d0630-3e53-4829-afde-f85b58799cb5",
   "metadata": {
    "collapsed": true,
    "jupyter": {
     "outputs_hidden": true,
     "source_hidden": true
    },
    "scrolled": true
   },
   "outputs": [
    {
     "name": "stderr",
     "output_type": "stream",
     "text": [
      "C:\\Users\\Shailesh\\AppData\\Local\\Temp\\ipykernel_12276\\353531418.py:7: DeprecationWarning: DataFrameGroupBy.apply operated on the grouping columns. This behavior is deprecated, and in a future version of pandas the grouping columns will be excluded from the operation. Either pass `include_groups=False` to exclude the groupings or explicitly select the grouping columns after groupby to silence this warning.\n",
      "  .apply( lambda x: x.nlargest(5, \"Quantity\"))) #top 5 quantities of diff countries\n"
     ]
    }
   ],
   "source": [
    "countryproducts = (\n",
    "    rproducts.groupby([ \"Country\", \"Description\"], as_index=False)[ \"Quantity\" ]\n",
    "    .sum()\n",
    "    .reset_index() #so country and description could be columns again\n",
    "    .pipe(\n",
    "        lambda y: y.groupby('Country', group_keys=False)\n",
    "        .apply( lambda x: x.nlargest(5, \"Quantity\"))) #top 5 quantities of diff countries\n",
    "        .reset_index(drop=True)\n",
    ")"
   ]
  },
  {
   "cell_type": "code",
   "execution_count": 18,
   "id": "835a5217-f123-46c9-a73f-a113d1675cc8",
   "metadata": {
    "collapsed": true,
    "jupyter": {
     "outputs_hidden": true
    },
    "scrolled": true
   },
   "outputs": [
    {
     "name": "stdout",
     "output_type": "stream",
     "text": [
      "\n",
      "Top 5 producs bought for Australia\n",
      "                     Description  Quantity\n",
      "0         MINI PAINT SET VINTAGE      2952\n",
      "1             RABBIT NIGHT LIGHT      1884\n",
      "2          RED  HARMONICA IN BOX      1704\n",
      "3  RED TOADSTOOL LED NIGHT LIGHT      1344\n",
      "4   HOMEMADE JAM SCENTED CANDLES      1080\n",
      "\n",
      "Top 5 producs bought for Austria\n",
      "                           Description  Quantity\n",
      "5     SET 12 KIDS COLOUR  CHALK STICKS       288\n",
      "6                   MINI JIGSAW PURDEY       240\n",
      "7       PACK OF 6 PANNETONE GIFT BOXES       144\n",
      "8         PACK OF 6 SWEETIE GIFT BOXES       144\n",
      "9  12 PENCILS SMALL TUBE RED RETROSPOT        48\n",
      "\n",
      "Top 5 producs bought for Bahrain\n",
      "                           Description  Quantity\n",
      "10          ICE CREAM SUNDAE LIP GLOSS        96\n",
      "11                  DOUGHNUT LIP GLOSS        60\n",
      "12  GROW A FLYTRAP OR SUNFLOWER IN TIN        24\n",
      "13     S/4 PINK FLOWER CANDLES IN BOWL        12\n",
      "14  MINI CAKE STAND WITH HANGING CAKES         8\n",
      "\n",
      "Top 5 producs bought for Belgium\n",
      "                           Description  Quantity\n",
      "15     PACK OF 72 RETROSPOT CAKE CASES       480\n",
      "16  ROUND SNACK BOXES SET OF4 WOODLAND       420\n",
      "17      PACK OF 60 SPACEBOY CAKE CASES       384\n",
      "18                DOLLY GIRL LUNCH BOX       340\n",
      "19                  SPACEBOY LUNCH BOX       340\n",
      "\n",
      "Top 5 producs bought for Brazil\n",
      "                        Description  Quantity\n",
      "20             DOLLY GIRL LUNCH BOX        24\n",
      "21  GREEN REGENCY TEACUP AND SAUCER        24\n",
      "22   PINK REGENCY TEACUP AND SAUCER        24\n",
      "23  ROSES REGENCY TEACUP AND SAUCER        24\n",
      "24     SET OF 4 PANTRY JELLY MOULDS        24\n",
      "\n",
      "Top 5 producs bought for Canada\n",
      "                          Description  Quantity\n",
      "25         RETRO COFFEE MUGS ASSORTED       504\n",
      "26  WORLD WAR 2 GLIDERS ASSTD DESIGNS       288\n",
      "27       COLOURING PENCILS BROWN TUBE        60\n",
      "28            LUNCH BAG  BLACK SKULL.        50\n",
      "29              SCOTTIE DOGS BABY BIB        48\n",
      "\n",
      "Top 5 producs bought for Channel Islands\n",
      "                       Description  Quantity\n",
      "30                     RAIN PONCHO       407\n",
      "31         JUMBO BAG RED RETROSPOT       250\n",
      "32  JUMBO  BAG BAROQUE BLACK WHITE       220\n",
      "33                JUMBO BAG APPLES       220\n",
      "34         JUMBO BAG PINK POLKADOT       200\n",
      "\n",
      "Top 5 producs bought for Cyprus\n",
      "                           Description  Quantity\n",
      "35       HEART DECORATION PAINTED ZINC       384\n",
      "36       BOYS ALPHABET IRON ON PATCHES       288\n",
      "37      GIRLS ALPHABET IRON ON PATCHES       288\n",
      "38  WHITE HANGING HEART T-LIGHT HOLDER       144\n",
      "39    AGED GLASS SILVER T-LIGHT HOLDER        96\n",
      "\n",
      "Top 5 producs bought for Czech Republic\n",
      "                            Description  Quantity\n",
      "40   WOODEN STAR CHRISTMAS SCANDINAVIAN        72\n",
      "41   WOODEN TREE CHRISTMAS SCANDINAVIAN        72\n",
      "42  CHRISTMAS TABLE SILVER CANDLE SPIKE        48\n",
      "43  COLOUR GLASS T-LIGHT HOLDER HANGING        48\n",
      "44           JIGSAW TREE WITH BIRDHOUSE        36\n",
      "\n",
      "Top 5 producs bought for Denmark\n",
      "                         Description  Quantity\n",
      "45             RED  HARMONICA IN BOX       288\n",
      "46    SET OF 6 TEA TIME BAKING CASES       280\n",
      "47                 GUMBALL COAT RACK       270\n",
      "48  SET OF 12 MINI LOAF BAKING CASES       256\n",
      "49              DOLLY GIRL LUNCH BOX       160\n",
      "\n",
      "Top 5 producs bought for EIRE\n",
      "                        Description  Quantity\n",
      "50  PACK OF 72 RETROSPOT CAKE CASES      1632\n",
      "51      60 TEATIME FAIRY CAKE CASES      1464\n",
      "52  60 CAKE CASES VINTAGE CHRISTMAS      1440\n",
      "53            ASSORTED INCENSE PACK      1440\n",
      "54               VINTAGE SNAP CARDS      1420\n",
      "\n",
      "Top 5 producs bought for European Community\n",
      "                           Description  Quantity\n",
      "55      RED ROCKING HORSE HAND PAINTED        24\n",
      "56       ROCKING HORSE GREEN CHRISTMAS        24\n",
      "57         ROCKING HORSE RED CHRISTMAS        24\n",
      "58  SET OF 60 PANTRY DESIGN CAKE CASES        24\n",
      "59   SET OF 60 VINTAGE LEAF CAKE CASES        24\n",
      "\n",
      "Top 5 producs bought for Finland\n",
      "                         Description  Quantity\n",
      "60   CHILDRENS CUTLERY POLKADOT PINK       480\n",
      "61   CHILDRENS CUTLERY POLKADOT BLUE       300\n",
      "62                DOUGHNUT LIP GLOSS       200\n",
      "63  CHILDRENS CUTLERY POLKADOT GREEN       196\n",
      "64       60 TEATIME FAIRY CAKE CASES       192\n",
      "\n",
      "Top 5 producs bought for France\n",
      "                      Description  Quantity\n",
      "65             RABBIT NIGHT LIGHT      4000\n",
      "66         MINI PAINT SET VINTAGE      2196\n",
      "67  RED TOADSTOOL LED NIGHT LIGHT      1291\n",
      "68    SET/6 RED SPOTTY PAPER CUPS      1272\n",
      "69  ASSORTED COLOUR BIRD ORNAMENT      1204\n",
      "\n",
      "Top 5 producs bought for Germany\n",
      "                           Description  Quantity\n",
      "70  ROUND SNACK BOXES SET OF4 WOODLAND      1233\n",
      "71           ASSORTED COLOURS SILK FAN      1164\n",
      "72                             POSTAGE      1114\n",
      "73              WOODLAND CHARLOTTE BAG      1020\n",
      "74     PACK OF 72 RETROSPOT CAKE CASES      1002\n",
      "\n",
      "Top 5 producs bought for Greece\n",
      "                            Description  Quantity\n",
      "75  4 LAVENDER BOTANICAL DINNER CANDLES        48\n",
      "76      4 PEAR BOTANICAL DINNER CANDLES        48\n",
      "77       SET OF 4 NAPKIN CHARMS CUTLERY        32\n",
      "78   ASSTD FRUIT+FLOWERS FRIDGE MAGNETS        24\n",
      "79          BIG DOUGHNUT FRIDGE MAGNETS        24\n",
      "\n",
      "Top 5 producs bought for Iceland\n",
      "                     Description  Quantity\n",
      "80    ICE CREAM SUNDAE LIP GLOSS       240\n",
      "81  3D DOG PICTURE PLAYING CARDS       126\n",
      "82        MINI PAINT SET VINTAGE       108\n",
      "83            RABBIT NIGHT LIGHT        84\n",
      "84   60 TEATIME FAIRY CAKE CASES        72\n",
      "\n",
      "Top 5 producs bought for Israel\n",
      "                           Description  Quantity\n",
      "85              WOODLAND CHARLOTTE BAG       120\n",
      "86         RED RETROSPOT CHARLOTTE BAG       110\n",
      "87     BLUE STRIPE CERAMIC DRAWER KNOB        96\n",
      "88  ROUND SNACK BOXES SET OF4 WOODLAND        96\n",
      "89  ASS FLORAL PRINT MULTI SCREWDRIVER        72\n",
      "\n",
      "Top 5 producs bought for Italy\n",
      "               Description  Quantity\n",
      "90    FEATHER PEN,HOT PINK       240\n",
      "91       ICE CREAM BUBBLES       200\n",
      "92  FEATHER PEN,COAL BLACK       168\n",
      "93  FEATHER PEN,LIGHT PINK       120\n",
      "94          POPCORN HOLDER       112\n",
      "\n",
      "Top 5 producs bought for Japan\n",
      "                          Description  Quantity\n",
      "95                 RABBIT NIGHT LIGHT      3408\n",
      "96  ROUND SNACK BOXES SET OF 4 FRUITS      1494\n",
      "97     PACK OF 12 TRADITIONAL CRAYONS      1201\n",
      "98    MAGIC DRAWING SLATE BAKE A CAKE       577\n",
      "99  MAGIC DRAWING SLATE CIRCUS PARADE       577\n",
      "\n",
      "Top 5 producs bought for Lebanon\n",
      "                            Description  Quantity\n",
      "100  ASSTD FRUIT+FLOWERS FRIDGE MAGNETS        24\n",
      "101                       PARTY BUNTING        15\n",
      "102        BEWARE OF THE CAT METAL SIGN        12\n",
      "103             BISCUIT TIN VINTAGE RED        12\n",
      "104           CARD HOLDER GINGHAM HEART        12\n",
      "\n",
      "Top 5 producs bought for Lithuania\n",
      "                            Description  Quantity\n",
      "105                FELTCRAFT DOLL ROSIE        48\n",
      "106               RED  HARMONICA IN BOX        48\n",
      "107               BLUE HARMONICA IN BOX        36\n",
      "108    GOLD MUG BONE CHINA TREE OF LIFE        36\n",
      "109  GREY FLORAL FELTCRAFT SHOULDER BAG        36\n",
      "\n",
      "Top 5 producs bought for Malta\n",
      "                       Description  Quantity\n",
      "110          GRAND CHOCOLATECANDLE        81\n",
      "111  CHRISTMAS PUDDING TRINKET POT        60\n",
      "112         WRAP CHRISTMAS VILLAGE        25\n",
      "113    3 ROSE MORRIS BOXED CANDLES        24\n",
      "114  CHOC TRUFFLE GOLD TRINKET POT        24\n",
      "\n",
      "Top 5 producs bought for Netherlands\n",
      "                            Description  Quantity\n",
      "115                  RABBIT NIGHT LIGHT      4801\n",
      "116                  SPACEBOY LUNCH BOX      4528\n",
      "117                DOLLY GIRL LUNCH BOX      4132\n",
      "118     PACK OF 72 RETROSPOT CAKE CASES      4128\n",
      "119  ROUND SNACK BOXES SET OF4 WOODLAND      3132\n",
      "\n",
      "Top 5 producs bought for Norway\n",
      "                             Description  Quantity\n",
      "120  SMALL FOLDING SCISSOR(POINTED EDGE)       576\n",
      "121   GROW A FLYTRAP OR SUNFLOWER IN TIN       504\n",
      "122              FENG SHUI PILLAR CANDLE       384\n",
      "123                       POPCORN HOLDER       300\n",
      "124      PINK HEART SHAPE EGG FRYING PAN       252\n",
      "\n",
      "Top 5 producs bought for Poland\n",
      "                         Description  Quantity\n",
      "125  CERAMIC CAKE DESIGN SPOTTED MUG       144\n",
      "126   STRAWBERRY CERAMIC TRINKET BOX       144\n",
      "127           JAM MAKING SET PRINTED       108\n",
      "128      LARGE CHINESE STYLE SCISSOR       100\n",
      "129    CERAMIC STRAWBERRY DESIGN MUG        96\n",
      "\n",
      "Top 5 producs bought for Portugal\n",
      "                             Description  Quantity\n",
      "130                         POLKADOT PEN       240\n",
      "131          60 TEATIME FAIRY CAKE CASES       218\n",
      "132              LUNCH BAG RED RETROSPOT       215\n",
      "133    JUMBO SHOPPER VINTAGE RED PAISLEY       190\n",
      "134  FRIDGE MAGNETS LES ENFANTS ASSORTED       180\n",
      "\n",
      "Top 5 producs bought for RSA\n",
      "                       Description  Quantity\n",
      "135    4 TRADITIONAL SPINNING TOPS        12\n",
      "136   ASSORTED BOTTLE TOP  MAGNETS        12\n",
      "137      PACK OF 6 BIRDY GIFT TAGS        12\n",
      "138  SET OF 20 KIDS COOKIE CUTTERS        12\n",
      "139         WOODEN BOX OF DOMINOES        12\n",
      "\n",
      "Top 5 producs bought for Saudi Arabia\n",
      "                       Description  Quantity\n",
      "140   ASSORTED BOTTLE TOP  MAGNETS        12\n",
      "141   HOMEMADE JAM SCENTED CANDLES        12\n",
      "142  PLASTERS IN TIN CIRCUS PARADE        12\n",
      "143         PLASTERS IN TIN SKULLS        12\n",
      "144      PLASTERS IN TIN STRONGMAN        12\n",
      "\n",
      "Top 5 producs bought for Singapore\n",
      "                        Description  Quantity\n",
      "145     CHRISTMAS TREE PAINTED ZINC       384\n",
      "146  PARTY PIZZA DISH RED RETROSPOT       240\n",
      "147            SMALL POPCORN HOLDER       200\n",
      "148  GIN & TONIC DIET GREETING CARD       144\n",
      "149                  POPCORN HOLDER       100\n",
      "\n",
      "Top 5 producs bought for Spain\n",
      "                         Description  Quantity\n",
      "150  CHILDRENS CUTLERY POLKADOT PINK       729\n",
      "151  CHILDRENS CUTLERY POLKADOT BLUE       653\n",
      "152              LUNCH BAG CARS BLUE       558\n",
      "153    ASSORTED COLOUR BIRD ORNAMENT       417\n",
      "154          LUNCH BAG PINK POLKADOT       406\n",
      "\n",
      "Top 5 producs bought for Sweden\n",
      "                            Description  Quantity\n",
      "155              MINI PAINT SET VINTAGE      2916\n",
      "156   WORLD WAR 2 GLIDERS ASSTD DESIGNS      2304\n",
      "157             BUBBLEGUM RING ASSORTED      1080\n",
      "158     60 CAKE CASES VINTAGE CHRISTMAS       984\n",
      "159  PACK OF 60 PINK PAISLEY CAKE CASES       984\n",
      "\n",
      "Top 5 producs bought for Switzerland\n",
      "                            Description  Quantity\n",
      "160    PLASTERS IN TIN WOODLAND ANIMALS       636\n",
      "161  ROUND SNACK BOXES SET OF4 WOODLAND       480\n",
      "162            PLASTERS IN TIN SPACEBOY       468\n",
      "163     PACK OF 72 RETROSPOT CAKE CASES       432\n",
      "164              WOODLAND CHARLOTTE BAG       340\n",
      "\n",
      "Top 5 producs bought for USA\n",
      "                             Description  Quantity\n",
      "165       SET 12 COLOURING PENCILS DOILY        88\n",
      "166  12 PENCILS SMALL TUBE RED RETROSPOT        72\n",
      "167   SET/10 BLUE POLKADOT PARTY CANDLES        72\n",
      "168  SET/10 IVORY POLKADOT PARTY CANDLES        72\n",
      "169   SET/10 PINK POLKADOT PARTY CANDLES        72\n",
      "\n",
      "Top 5 producs bought for United Arab Emirates\n",
      "                        Description  Quantity\n",
      "170  ASSORTED CHEESE FRIDGE MAGNETS        72\n",
      "171     BIG DOUGHNUT FRIDGE MAGNETS        72\n",
      "172         BLUE PAISLEY TISSUE BOX        36\n",
      "173          MINI PAINT SET VINTAGE        36\n",
      "174              SPACEBOY GIFT WRAP        25\n",
      "\n",
      "Top 5 producs bought for United Kingdom\n",
      "                            Description  Quantity\n",
      "175         PAPER CRAFT , LITTLE BIRDIE     80995\n",
      "176      MEDIUM CERAMIC TOP STORAGE JAR     76919\n",
      "177   WORLD WAR 2 GLIDERS ASSTD DESIGNS     49182\n",
      "178             JUMBO BAG RED RETROSPOT     41981\n",
      "179  WHITE HANGING HEART T-LIGHT HOLDER     34648\n",
      "\n",
      "Top 5 producs bought for Unspecified\n",
      "                         Description  Quantity\n",
      "180  60 CAKE CASES VINTAGE CHRISTMAS        36\n",
      "181     PACK OF 6 LARGE FRUIT STRAWS        36\n",
      "182       BIRTHDAY BANQUET GIFT WRAP        25\n",
      "183               BLUE POLKADOT WRAP        25\n",
      "184   BLUE SCANDINAVIAN PAISLEY WRAP        25\n"
     ]
    }
   ],
   "source": [
    "for country, group in countryproducts.groupby(\"Country\"):\n",
    "    print(f\"\\nTop 5 producs bought for {country}\")\n",
    "    print(group[[\"Description\", \"Quantity\"]])"
   ]
  },
  {
   "cell_type": "code",
   "execution_count": 19,
   "id": "b58d8fe8-0b41-4739-b38a-b1f38721a65f",
   "metadata": {
    "collapsed": true,
    "jupyter": {
     "outputs_hidden": true
    },
    "scrolled": true
   },
   "outputs": [
    {
     "name": "stderr",
     "output_type": "stream",
     "text": [
      "C:\\Users\\Shailesh\\AppData\\Local\\Temp\\ipykernel_12276\\3891816432.py:9: DeprecationWarning: DataFrameGroupBy.apply operated on the grouping columns. This behavior is deprecated, and in a future version of pandas the grouping columns will be excluded from the operation. Either pass `include_groups=False` to exclude the groupings or explicitly select the grouping columns after groupby to silence this warning.\n",
      "  .apply( lambda x: x.nlargest(5, \"Quantity\"))) #top 5 quantities for diff months\n"
     ]
    }
   ],
   "source": [
    "monthlyproducts = (\n",
    "    rproducts\n",
    "    .assign(Month=rproducts[\"InvoiceDate\"].dt.to_period(\"M\")) #adds month column in this way: YYYY-MM\n",
    "    .groupby([ \"Month\", \"Description\"], as_index=False)[ \"Quantity\" ]\n",
    "    .sum()\n",
    "    .reset_index() #so month and description could be columns again\n",
    "    .pipe(\n",
    "        lambda y: y.groupby('Month', group_keys=False)\n",
    "        .apply( lambda x: x.nlargest(5, \"Quantity\"))) #top 5 quantities for diff months\n",
    "        .reset_index(drop=True)\n",
    ")"
   ]
  },
  {
   "cell_type": "code",
   "execution_count": 20,
   "id": "e0640a57-b2f3-45d6-92bd-6a4da0d35c33",
   "metadata": {
    "collapsed": true,
    "jupyter": {
     "outputs_hidden": true
    },
    "scrolled": true
   },
   "outputs": [
    {
     "name": "stdout",
     "output_type": "stream",
     "text": [
      "\n",
      "Top 5 producs bought for 2010-12\n",
      "                          Description  Quantity\n",
      "0   WORLD WAR 2 GLIDERS ASSTD DESIGNS      5139\n",
      "1  WHITE HANGING HEART T-LIGHT HOLDER      3611\n",
      "2     PACK OF 72 RETROSPOT CAKE CASES      3572\n",
      "3         HAND WARMER BABUSHKA DESIGN      3367\n",
      "4              MINI PAINT SET VINTAGE      2700\n",
      "\n",
      "Top 5 producs bought for 2011-01\n",
      "                          Description  Quantity\n",
      "5      MEDIUM CERAMIC TOP STORAGE JAR     74215\n",
      "6  WHITE HANGING HEART T-LIGHT HOLDER      5467\n",
      "7     PACK OF 72 RETROSPOT CAKE CASES      3329\n",
      "8  FAIRY CAKE FLANNEL ASSORTED COLOUR      3240\n",
      "9                  BROCADE RING PURSE      3174\n",
      "\n",
      "Top 5 producs bought for 2011-02\n",
      "                           Description  Quantity\n",
      "10               EMPIRE DESIGN ROSETTE      3986\n",
      "11  GROW A FLYTRAP OR SUNFLOWER IN TIN      3795\n",
      "12   WORLD WAR 2 GLIDERS ASSTD DESIGNS      3457\n",
      "13             JUMBO BAG RED RETROSPOT      2971\n",
      "14           PACK OF 12 LONDON TISSUES      2659\n",
      "\n",
      "Top 5 producs bought for 2011-03\n",
      "                          Description  Quantity\n",
      "15            JUMBO BAG RED RETROSPOT      4924\n",
      "16  WORLD WAR 2 GLIDERS ASSTD DESIGNS      3888\n",
      "17    PACK OF 72 RETROSPOT CAKE CASES      3720\n",
      "18          PACK OF 12 LONDON TISSUES      3519\n",
      "19                 BROCADE RING PURSE      3396\n",
      "\n",
      "Top 5 producs bought for 2011-04\n",
      "                           Description  Quantity\n",
      "20   WORLD WAR 2 GLIDERS ASSTD DESIGNS     10224\n",
      "21  WHITE HANGING HEART T-LIGHT HOLDER      3725\n",
      "22  FAIRY CAKE FLANNEL ASSORTED COLOUR      3142\n",
      "23     PACK OF 72 RETROSPOT CAKE CASES      2816\n",
      "24       BALLOON WATER BOMB PACK OF 35      2641\n",
      "\n",
      "Top 5 producs bought for 2011-05\n",
      "                           Description  Quantity\n",
      "25                SMALL POPCORN HOLDER      6738\n",
      "26   WORLD WAR 2 GLIDERS ASSTD DESIGNS      4944\n",
      "27  PACK OF 60 PINK PAISLEY CAKE CASES      3949\n",
      "28           ASSORTED COLOURS SILK FAN      3888\n",
      "29  WHITE HANGING HEART T-LIGHT HOLDER      3846\n",
      "\n",
      "Top 5 producs bought for 2011-06\n",
      "                            Description  Quantity\n",
      "30              JUMBO BAG RED RETROSPOT      3529\n",
      "31            ASSORTED COLOURS SILK FAN      3096\n",
      "32                   BROCADE RING PURSE      2988\n",
      "33            PACK OF 12 LONDON TISSUES      2397\n",
      "34  COLOUR GLASS T-LIGHT HOLDER HANGING      2204\n",
      "\n",
      "Top 5 producs bought for 2011-07\n",
      "                            Description  Quantity\n",
      "35       GIRLS ALPHABET IRON ON PATCHES      4896\n",
      "36    WORLD WAR 2 GLIDERS ASSTD DESIGNS      3600\n",
      "37            ASSORTED COLOURS SILK FAN      3384\n",
      "38  ESSENTIAL BALM 3.5g TIN IN ENVELOPE      3206\n",
      "39   WHITE HANGING HEART T-LIGHT HOLDER      2971\n",
      "\n",
      "Top 5 producs bought for 2011-08\n",
      "                        Description  Quantity\n",
      "40    ASSORTED COLOUR BIRD ORNAMENT      6425\n",
      "41          JUMBO BAG RED RETROSPOT      5278\n",
      "42                   POPCORN HOLDER      5186\n",
      "43                 JUMBO BAG APPLES      3104\n",
      "44  PACK OF 72 RETROSPOT CAKE CASES      2837\n",
      "\n",
      "Top 5 producs bought for 2011-09\n",
      "                          Description  Quantity\n",
      "45            JUMBO BAG RED RETROSPOT      4177\n",
      "46    60 CAKE CASES VINTAGE CHRISTMAS      3669\n",
      "47                     POPCORN HOLDER      3624\n",
      "48  WORLD WAR 2 GLIDERS ASSTD DESIGNS      3462\n",
      "49             MINI PAINT SET VINTAGE      3314\n",
      "\n",
      "Top 5 producs bought for 2011-10\n",
      "                          Description  Quantity\n",
      "50  WORLD WAR 2 GLIDERS ASSTD DESIGNS      8174\n",
      "51                 RABBIT NIGHT LIGHT      6249\n",
      "52                     POPCORN HOLDER      5644\n",
      "53            JUMBO BAG RED RETROSPOT      5237\n",
      "54   PINK BLUE FELT CRAFT TRINKET BOX      4873\n",
      "\n",
      "Top 5 producs bought for 2011-11\n",
      "                       Description  Quantity\n",
      "55  ASSTD DESIGN 3D PAPER STICKERS     12551\n",
      "56              RABBIT NIGHT LIGHT     12393\n",
      "57                  POPCORN HOLDER      8458\n",
      "58  PAPER CHAIN KIT 50'S CHRISTMAS      5919\n",
      "59         JUMBO BAG RED RETROSPOT      5678\n",
      "\n",
      "Top 5 producs bought for 2011-12\n",
      "                    Description  Quantity\n",
      "60  PAPER CRAFT , LITTLE BIRDIE     80995\n",
      "61               POPCORN HOLDER      5362\n",
      "62           RABBIT NIGHT LIGHT      3691\n",
      "63  VINTAGE DOILY JUMBO BAG RED      2086\n",
      "64     BLACK RECORD COVER FRAME      1464\n"
     ]
    }
   ],
   "source": [
    "for month, group in monthlyproducts.groupby(\"Month\"):\n",
    "    print(f\"\\nTop 5 producs bought for {month}\")\n",
    "    print(group[[\"Description\", \"Quantity\"]])"
   ]
  },
  {
   "cell_type": "markdown",
   "id": "98de56bd-fb74-46c3-a12f-e9fd70ba030a",
   "metadata": {},
   "source": [
    "# **Calculating User Similarity using Cosine Similarity**"
   ]
  },
  {
   "cell_type": "code",
   "execution_count": 21,
   "id": "aecc9460-03ee-4715-a71c-3113ccc17990",
   "metadata": {},
   "outputs": [],
   "source": [
    "user_item_matrix = rproducts.pivot_table(index=\"CustomerID\", columns=\"StockCode\", values=\"Quantity\", aggfunc='sum', fill_value=0)"
   ]
  },
  {
   "cell_type": "code",
   "execution_count": 22,
   "id": "728525dc-07ce-4aae-84c7-175e9cac9301",
   "metadata": {},
   "outputs": [],
   "source": [
    "from sklearn.metrics.pairwise import cosine_similarity\n",
    "\n",
    "user_similarity = cosine_similarity(user_item_matrix) #computes similarity between users buying the same products"
   ]
  },
  {
   "cell_type": "code",
   "execution_count": 23,
   "id": "26e3bfea-8a6e-4aeb-a83b-a4018f178a5f",
   "metadata": {
    "collapsed": true,
    "jupyter": {
     "outputs_hidden": true
    }
   },
   "outputs": [
    {
     "data": {
      "text/plain": [
       "array([[1.        , 0.        , 0.        , ..., 0.        , 0.        ,\n",
       "        0.        ],\n",
       "       [0.        , 1.        , 0.14887891, ..., 0.01087319, 0.07451023,\n",
       "        0.10894226],\n",
       "       [0.        , 0.14887891, 1.        , ..., 0.        , 0.17517012,\n",
       "        0.11009593],\n",
       "       ...,\n",
       "       [0.        , 0.01087319, 0.        , ..., 1.        , 0.00344423,\n",
       "        0.        ],\n",
       "       [0.        , 0.07451023, 0.17517012, ..., 0.00344423, 1.        ,\n",
       "        0.04444524],\n",
       "       [0.        , 0.10894226, 0.11009593, ..., 0.        , 0.04444524,\n",
       "        1.        ]])"
      ]
     },
     "execution_count": 23,
     "metadata": {},
     "output_type": "execute_result"
    }
   ],
   "source": [
    "user_similarity "
   ]
  },
  {
   "cell_type": "code",
   "execution_count": 24,
   "id": "37613e6c-81e4-4c04-91dd-630da93e74aa",
   "metadata": {},
   "outputs": [],
   "source": [
    "similarity_df = pd.DataFrame(user_similarity, index=user_item_matrix.index, columns=user_item_matrix.index)"
   ]
  },
  {
   "cell_type": "code",
   "execution_count": 25,
   "id": "ca9d5ee1-1f7f-43f3-b7f4-cd5f484637b3",
   "metadata": {
    "collapsed": true,
    "jupyter": {
     "outputs_hidden": true
    },
    "scrolled": true
   },
   "outputs": [
    {
     "data": {
      "text/html": [
       "<div>\n",
       "<style scoped>\n",
       "    .dataframe tbody tr th:only-of-type {\n",
       "        vertical-align: middle;\n",
       "    }\n",
       "\n",
       "    .dataframe tbody tr th {\n",
       "        vertical-align: top;\n",
       "    }\n",
       "\n",
       "    .dataframe thead th {\n",
       "        text-align: right;\n",
       "    }\n",
       "</style>\n",
       "<table border=\"1\" class=\"dataframe\">\n",
       "  <thead>\n",
       "    <tr style=\"text-align: right;\">\n",
       "      <th>CustomerID</th>\n",
       "      <th>12346.0</th>\n",
       "      <th>12347.0</th>\n",
       "      <th>12348.0</th>\n",
       "      <th>12349.0</th>\n",
       "      <th>12350.0</th>\n",
       "      <th>12352.0</th>\n",
       "      <th>12353.0</th>\n",
       "      <th>12354.0</th>\n",
       "      <th>12355.0</th>\n",
       "      <th>12356.0</th>\n",
       "      <th>...</th>\n",
       "      <th>18273.0</th>\n",
       "      <th>18274.0</th>\n",
       "      <th>18276.0</th>\n",
       "      <th>18277.0</th>\n",
       "      <th>18278.0</th>\n",
       "      <th>18280.0</th>\n",
       "      <th>18281.0</th>\n",
       "      <th>18282.0</th>\n",
       "      <th>18283.0</th>\n",
       "      <th>18287.0</th>\n",
       "    </tr>\n",
       "    <tr>\n",
       "      <th>CustomerID</th>\n",
       "      <th></th>\n",
       "      <th></th>\n",
       "      <th></th>\n",
       "      <th></th>\n",
       "      <th></th>\n",
       "      <th></th>\n",
       "      <th></th>\n",
       "      <th></th>\n",
       "      <th></th>\n",
       "      <th></th>\n",
       "      <th></th>\n",
       "      <th></th>\n",
       "      <th></th>\n",
       "      <th></th>\n",
       "      <th></th>\n",
       "      <th></th>\n",
       "      <th></th>\n",
       "      <th></th>\n",
       "      <th></th>\n",
       "      <th></th>\n",
       "      <th></th>\n",
       "    </tr>\n",
       "  </thead>\n",
       "  <tbody>\n",
       "    <tr>\n",
       "      <th>12346.0</th>\n",
       "      <td>1.0</td>\n",
       "      <td>0.000000</td>\n",
       "      <td>0.000000</td>\n",
       "      <td>0.000000</td>\n",
       "      <td>0.000000</td>\n",
       "      <td>0.000000</td>\n",
       "      <td>0.0</td>\n",
       "      <td>0.000000</td>\n",
       "      <td>0.000000</td>\n",
       "      <td>0.000000</td>\n",
       "      <td>...</td>\n",
       "      <td>0.0</td>\n",
       "      <td>0.000000</td>\n",
       "      <td>0.000000</td>\n",
       "      <td>0.000000</td>\n",
       "      <td>0.000000</td>\n",
       "      <td>0.000000</td>\n",
       "      <td>0.000000</td>\n",
       "      <td>0.000000</td>\n",
       "      <td>0.000000</td>\n",
       "      <td>0.000000</td>\n",
       "    </tr>\n",
       "    <tr>\n",
       "      <th>12347.0</th>\n",
       "      <td>0.0</td>\n",
       "      <td>1.000000</td>\n",
       "      <td>0.148879</td>\n",
       "      <td>0.020750</td>\n",
       "      <td>0.014435</td>\n",
       "      <td>0.028933</td>\n",
       "      <td>0.0</td>\n",
       "      <td>0.023478</td>\n",
       "      <td>0.506252</td>\n",
       "      <td>0.186107</td>\n",
       "      <td>...</td>\n",
       "      <td>0.0</td>\n",
       "      <td>0.001212</td>\n",
       "      <td>0.406837</td>\n",
       "      <td>0.000000</td>\n",
       "      <td>0.015133</td>\n",
       "      <td>0.037236</td>\n",
       "      <td>0.000000</td>\n",
       "      <td>0.010873</td>\n",
       "      <td>0.074510</td>\n",
       "      <td>0.108942</td>\n",
       "    </tr>\n",
       "    <tr>\n",
       "      <th>12348.0</th>\n",
       "      <td>0.0</td>\n",
       "      <td>0.148879</td>\n",
       "      <td>1.000000</td>\n",
       "      <td>0.000169</td>\n",
       "      <td>0.000315</td>\n",
       "      <td>0.001311</td>\n",
       "      <td>0.0</td>\n",
       "      <td>0.010634</td>\n",
       "      <td>0.286226</td>\n",
       "      <td>0.226244</td>\n",
       "      <td>...</td>\n",
       "      <td>0.0</td>\n",
       "      <td>0.032510</td>\n",
       "      <td>0.168665</td>\n",
       "      <td>0.000000</td>\n",
       "      <td>0.000000</td>\n",
       "      <td>0.000000</td>\n",
       "      <td>0.000000</td>\n",
       "      <td>0.000000</td>\n",
       "      <td>0.175170</td>\n",
       "      <td>0.110096</td>\n",
       "    </tr>\n",
       "    <tr>\n",
       "      <th>12349.0</th>\n",
       "      <td>0.0</td>\n",
       "      <td>0.020750</td>\n",
       "      <td>0.000169</td>\n",
       "      <td>1.000000</td>\n",
       "      <td>0.030121</td>\n",
       "      <td>0.131151</td>\n",
       "      <td>0.0</td>\n",
       "      <td>0.004931</td>\n",
       "      <td>0.000180</td>\n",
       "      <td>0.150819</td>\n",
       "      <td>...</td>\n",
       "      <td>0.0</td>\n",
       "      <td>0.148066</td>\n",
       "      <td>0.000000</td>\n",
       "      <td>0.000000</td>\n",
       "      <td>0.015680</td>\n",
       "      <td>0.000000</td>\n",
       "      <td>0.000000</td>\n",
       "      <td>0.013398</td>\n",
       "      <td>0.065295</td>\n",
       "      <td>0.022576</td>\n",
       "    </tr>\n",
       "    <tr>\n",
       "      <th>12350.0</th>\n",
       "      <td>0.0</td>\n",
       "      <td>0.014435</td>\n",
       "      <td>0.000315</td>\n",
       "      <td>0.030121</td>\n",
       "      <td>1.000000</td>\n",
       "      <td>0.001610</td>\n",
       "      <td>0.0</td>\n",
       "      <td>0.000000</td>\n",
       "      <td>0.000000</td>\n",
       "      <td>0.001179</td>\n",
       "      <td>...</td>\n",
       "      <td>0.0</td>\n",
       "      <td>0.000000</td>\n",
       "      <td>0.000000</td>\n",
       "      <td>0.000000</td>\n",
       "      <td>0.000000</td>\n",
       "      <td>0.000000</td>\n",
       "      <td>0.000000</td>\n",
       "      <td>0.000000</td>\n",
       "      <td>0.019385</td>\n",
       "      <td>0.000000</td>\n",
       "    </tr>\n",
       "    <tr>\n",
       "      <th>...</th>\n",
       "      <td>...</td>\n",
       "      <td>...</td>\n",
       "      <td>...</td>\n",
       "      <td>...</td>\n",
       "      <td>...</td>\n",
       "      <td>...</td>\n",
       "      <td>...</td>\n",
       "      <td>...</td>\n",
       "      <td>...</td>\n",
       "      <td>...</td>\n",
       "      <td>...</td>\n",
       "      <td>...</td>\n",
       "      <td>...</td>\n",
       "      <td>...</td>\n",
       "      <td>...</td>\n",
       "      <td>...</td>\n",
       "      <td>...</td>\n",
       "      <td>...</td>\n",
       "      <td>...</td>\n",
       "      <td>...</td>\n",
       "      <td>...</td>\n",
       "    </tr>\n",
       "    <tr>\n",
       "      <th>18280.0</th>\n",
       "      <td>0.0</td>\n",
       "      <td>0.037236</td>\n",
       "      <td>0.000000</td>\n",
       "      <td>0.000000</td>\n",
       "      <td>0.000000</td>\n",
       "      <td>0.000000</td>\n",
       "      <td>0.0</td>\n",
       "      <td>0.002707</td>\n",
       "      <td>0.000000</td>\n",
       "      <td>0.000000</td>\n",
       "      <td>...</td>\n",
       "      <td>0.0</td>\n",
       "      <td>0.000000</td>\n",
       "      <td>0.000000</td>\n",
       "      <td>0.000000</td>\n",
       "      <td>0.043042</td>\n",
       "      <td>1.000000</td>\n",
       "      <td>0.098363</td>\n",
       "      <td>0.000000</td>\n",
       "      <td>0.000000</td>\n",
       "      <td>0.000000</td>\n",
       "    </tr>\n",
       "    <tr>\n",
       "      <th>18281.0</th>\n",
       "      <td>0.0</td>\n",
       "      <td>0.000000</td>\n",
       "      <td>0.000000</td>\n",
       "      <td>0.000000</td>\n",
       "      <td>0.000000</td>\n",
       "      <td>0.000000</td>\n",
       "      <td>0.0</td>\n",
       "      <td>0.000435</td>\n",
       "      <td>0.000000</td>\n",
       "      <td>0.000000</td>\n",
       "      <td>...</td>\n",
       "      <td>0.0</td>\n",
       "      <td>0.000000</td>\n",
       "      <td>0.000000</td>\n",
       "      <td>0.000000</td>\n",
       "      <td>0.000000</td>\n",
       "      <td>0.098363</td>\n",
       "      <td>1.000000</td>\n",
       "      <td>0.000000</td>\n",
       "      <td>0.098201</td>\n",
       "      <td>0.000000</td>\n",
       "    </tr>\n",
       "    <tr>\n",
       "      <th>18282.0</th>\n",
       "      <td>0.0</td>\n",
       "      <td>0.010873</td>\n",
       "      <td>0.000000</td>\n",
       "      <td>0.013398</td>\n",
       "      <td>0.000000</td>\n",
       "      <td>0.002247</td>\n",
       "      <td>0.0</td>\n",
       "      <td>0.000000</td>\n",
       "      <td>0.006539</td>\n",
       "      <td>0.004353</td>\n",
       "      <td>...</td>\n",
       "      <td>0.0</td>\n",
       "      <td>0.099978</td>\n",
       "      <td>0.000000</td>\n",
       "      <td>0.000000</td>\n",
       "      <td>0.000000</td>\n",
       "      <td>0.000000</td>\n",
       "      <td>0.000000</td>\n",
       "      <td>1.000000</td>\n",
       "      <td>0.003444</td>\n",
       "      <td>0.000000</td>\n",
       "    </tr>\n",
       "    <tr>\n",
       "      <th>18283.0</th>\n",
       "      <td>0.0</td>\n",
       "      <td>0.074510</td>\n",
       "      <td>0.175170</td>\n",
       "      <td>0.065295</td>\n",
       "      <td>0.019385</td>\n",
       "      <td>0.016414</td>\n",
       "      <td>0.0</td>\n",
       "      <td>0.104890</td>\n",
       "      <td>0.050042</td>\n",
       "      <td>0.063930</td>\n",
       "      <td>...</td>\n",
       "      <td>0.0</td>\n",
       "      <td>0.003552</td>\n",
       "      <td>0.032124</td>\n",
       "      <td>0.071037</td>\n",
       "      <td>0.000000</td>\n",
       "      <td>0.000000</td>\n",
       "      <td>0.098201</td>\n",
       "      <td>0.003444</td>\n",
       "      <td>1.000000</td>\n",
       "      <td>0.044445</td>\n",
       "    </tr>\n",
       "    <tr>\n",
       "      <th>18287.0</th>\n",
       "      <td>0.0</td>\n",
       "      <td>0.108942</td>\n",
       "      <td>0.110096</td>\n",
       "      <td>0.022576</td>\n",
       "      <td>0.000000</td>\n",
       "      <td>0.012497</td>\n",
       "      <td>0.0</td>\n",
       "      <td>0.000000</td>\n",
       "      <td>0.201498</td>\n",
       "      <td>0.000000</td>\n",
       "      <td>...</td>\n",
       "      <td>0.0</td>\n",
       "      <td>0.000000</td>\n",
       "      <td>0.104149</td>\n",
       "      <td>0.000000</td>\n",
       "      <td>0.002449</td>\n",
       "      <td>0.000000</td>\n",
       "      <td>0.000000</td>\n",
       "      <td>0.000000</td>\n",
       "      <td>0.044445</td>\n",
       "      <td>1.000000</td>\n",
       "    </tr>\n",
       "  </tbody>\n",
       "</table>\n",
       "<p>4339 rows × 4339 columns</p>\n",
       "</div>"
      ],
      "text/plain": [
       "CustomerID  12346.0   12347.0   12348.0   12349.0   12350.0   12352.0  \\\n",
       "CustomerID                                                              \n",
       "12346.0         1.0  0.000000  0.000000  0.000000  0.000000  0.000000   \n",
       "12347.0         0.0  1.000000  0.148879  0.020750  0.014435  0.028933   \n",
       "12348.0         0.0  0.148879  1.000000  0.000169  0.000315  0.001311   \n",
       "12349.0         0.0  0.020750  0.000169  1.000000  0.030121  0.131151   \n",
       "12350.0         0.0  0.014435  0.000315  0.030121  1.000000  0.001610   \n",
       "...             ...       ...       ...       ...       ...       ...   \n",
       "18280.0         0.0  0.037236  0.000000  0.000000  0.000000  0.000000   \n",
       "18281.0         0.0  0.000000  0.000000  0.000000  0.000000  0.000000   \n",
       "18282.0         0.0  0.010873  0.000000  0.013398  0.000000  0.002247   \n",
       "18283.0         0.0  0.074510  0.175170  0.065295  0.019385  0.016414   \n",
       "18287.0         0.0  0.108942  0.110096  0.022576  0.000000  0.012497   \n",
       "\n",
       "CustomerID  12353.0   12354.0   12355.0   12356.0  ...  18273.0   18274.0  \\\n",
       "CustomerID                                         ...                      \n",
       "12346.0         0.0  0.000000  0.000000  0.000000  ...      0.0  0.000000   \n",
       "12347.0         0.0  0.023478  0.506252  0.186107  ...      0.0  0.001212   \n",
       "12348.0         0.0  0.010634  0.286226  0.226244  ...      0.0  0.032510   \n",
       "12349.0         0.0  0.004931  0.000180  0.150819  ...      0.0  0.148066   \n",
       "12350.0         0.0  0.000000  0.000000  0.001179  ...      0.0  0.000000   \n",
       "...             ...       ...       ...       ...  ...      ...       ...   \n",
       "18280.0         0.0  0.002707  0.000000  0.000000  ...      0.0  0.000000   \n",
       "18281.0         0.0  0.000435  0.000000  0.000000  ...      0.0  0.000000   \n",
       "18282.0         0.0  0.000000  0.006539  0.004353  ...      0.0  0.099978   \n",
       "18283.0         0.0  0.104890  0.050042  0.063930  ...      0.0  0.003552   \n",
       "18287.0         0.0  0.000000  0.201498  0.000000  ...      0.0  0.000000   \n",
       "\n",
       "CustomerID   18276.0   18277.0   18278.0   18280.0   18281.0   18282.0  \\\n",
       "CustomerID                                                               \n",
       "12346.0     0.000000  0.000000  0.000000  0.000000  0.000000  0.000000   \n",
       "12347.0     0.406837  0.000000  0.015133  0.037236  0.000000  0.010873   \n",
       "12348.0     0.168665  0.000000  0.000000  0.000000  0.000000  0.000000   \n",
       "12349.0     0.000000  0.000000  0.015680  0.000000  0.000000  0.013398   \n",
       "12350.0     0.000000  0.000000  0.000000  0.000000  0.000000  0.000000   \n",
       "...              ...       ...       ...       ...       ...       ...   \n",
       "18280.0     0.000000  0.000000  0.043042  1.000000  0.098363  0.000000   \n",
       "18281.0     0.000000  0.000000  0.000000  0.098363  1.000000  0.000000   \n",
       "18282.0     0.000000  0.000000  0.000000  0.000000  0.000000  1.000000   \n",
       "18283.0     0.032124  0.071037  0.000000  0.000000  0.098201  0.003444   \n",
       "18287.0     0.104149  0.000000  0.002449  0.000000  0.000000  0.000000   \n",
       "\n",
       "CustomerID   18283.0   18287.0  \n",
       "CustomerID                      \n",
       "12346.0     0.000000  0.000000  \n",
       "12347.0     0.074510  0.108942  \n",
       "12348.0     0.175170  0.110096  \n",
       "12349.0     0.065295  0.022576  \n",
       "12350.0     0.019385  0.000000  \n",
       "...              ...       ...  \n",
       "18280.0     0.000000  0.000000  \n",
       "18281.0     0.098201  0.000000  \n",
       "18282.0     0.003444  0.000000  \n",
       "18283.0     1.000000  0.044445  \n",
       "18287.0     0.044445  1.000000  \n",
       "\n",
       "[4339 rows x 4339 columns]"
      ]
     },
     "execution_count": 25,
     "metadata": {},
     "output_type": "execute_result"
    }
   ],
   "source": [
    "similarity_df"
   ]
  },
  {
   "cell_type": "code",
   "execution_count": 26,
   "id": "fb5708ee-ccda-4269-8421-e7302fbec326",
   "metadata": {
    "collapsed": true,
    "jupyter": {
     "outputs_hidden": true
    }
   },
   "outputs": [
    {
     "data": {
      "text/html": [
       "<div>\n",
       "<style scoped>\n",
       "    .dataframe tbody tr th:only-of-type {\n",
       "        vertical-align: middle;\n",
       "    }\n",
       "\n",
       "    .dataframe tbody tr th {\n",
       "        vertical-align: top;\n",
       "    }\n",
       "\n",
       "    .dataframe thead th {\n",
       "        text-align: right;\n",
       "    }\n",
       "</style>\n",
       "<table border=\"1\" class=\"dataframe\">\n",
       "  <thead>\n",
       "    <tr style=\"text-align: right;\">\n",
       "      <th>CustomerID</th>\n",
       "      <th>12346.0</th>\n",
       "      <th>12347.0</th>\n",
       "      <th>12348.0</th>\n",
       "      <th>12349.0</th>\n",
       "      <th>12350.0</th>\n",
       "    </tr>\n",
       "    <tr>\n",
       "      <th>CustomerID</th>\n",
       "      <th></th>\n",
       "      <th></th>\n",
       "      <th></th>\n",
       "      <th></th>\n",
       "      <th></th>\n",
       "    </tr>\n",
       "  </thead>\n",
       "  <tbody>\n",
       "    <tr>\n",
       "      <th>12346.0</th>\n",
       "      <td>1.0</td>\n",
       "      <td>0.000000</td>\n",
       "      <td>0.000000</td>\n",
       "      <td>0.000000</td>\n",
       "      <td>0.000000</td>\n",
       "    </tr>\n",
       "    <tr>\n",
       "      <th>12347.0</th>\n",
       "      <td>0.0</td>\n",
       "      <td>1.000000</td>\n",
       "      <td>0.148879</td>\n",
       "      <td>0.020750</td>\n",
       "      <td>0.014435</td>\n",
       "    </tr>\n",
       "    <tr>\n",
       "      <th>12348.0</th>\n",
       "      <td>0.0</td>\n",
       "      <td>0.148879</td>\n",
       "      <td>1.000000</td>\n",
       "      <td>0.000169</td>\n",
       "      <td>0.000315</td>\n",
       "    </tr>\n",
       "    <tr>\n",
       "      <th>12349.0</th>\n",
       "      <td>0.0</td>\n",
       "      <td>0.020750</td>\n",
       "      <td>0.000169</td>\n",
       "      <td>1.000000</td>\n",
       "      <td>0.030121</td>\n",
       "    </tr>\n",
       "    <tr>\n",
       "      <th>12350.0</th>\n",
       "      <td>0.0</td>\n",
       "      <td>0.014435</td>\n",
       "      <td>0.000315</td>\n",
       "      <td>0.030121</td>\n",
       "      <td>1.000000</td>\n",
       "    </tr>\n",
       "  </tbody>\n",
       "</table>\n",
       "</div>"
      ],
      "text/plain": [
       "CustomerID  12346.0   12347.0   12348.0   12349.0   12350.0\n",
       "CustomerID                                                 \n",
       "12346.0         1.0  0.000000  0.000000  0.000000  0.000000\n",
       "12347.0         0.0  1.000000  0.148879  0.020750  0.014435\n",
       "12348.0         0.0  0.148879  1.000000  0.000169  0.000315\n",
       "12349.0         0.0  0.020750  0.000169  1.000000  0.030121\n",
       "12350.0         0.0  0.014435  0.000315  0.030121  1.000000"
      ]
     },
     "execution_count": 26,
     "metadata": {},
     "output_type": "execute_result"
    }
   ],
   "source": [
    "similarity_df.iloc[:5, :5]"
   ]
  },
  {
   "cell_type": "code",
   "execution_count": 27,
   "id": "320e9b37-3b14-4488-8e30-84e552e15fba",
   "metadata": {
    "collapsed": true,
    "jupyter": {
     "outputs_hidden": true
    },
    "scrolled": true
   },
   "outputs": [
    {
     "name": "stdout",
     "output_type": "stream",
     "text": [
      "Requirement already satisfied: seaborn in c:\\users\\shailesh\\appdata\\local\\programs\\python\\python310\\lib\\site-packages (0.13.2)\n",
      "Requirement already satisfied: numpy!=1.24.0,>=1.20 in c:\\users\\shailesh\\appdata\\local\\programs\\python\\python310\\lib\\site-packages (from seaborn) (1.26.4)\n",
      "Requirement already satisfied: pandas>=1.2 in c:\\users\\shailesh\\appdata\\local\\programs\\python\\python310\\lib\\site-packages (from seaborn) (2.2.3)\n",
      "Requirement already satisfied: matplotlib!=3.6.1,>=3.4 in c:\\users\\shailesh\\appdata\\local\\programs\\python\\python310\\lib\\site-packages (from seaborn) (3.10.1)\n",
      "Requirement already satisfied: contourpy>=1.0.1 in c:\\users\\shailesh\\appdata\\local\\programs\\python\\python310\\lib\\site-packages (from matplotlib!=3.6.1,>=3.4->seaborn) (1.3.1)\n",
      "Requirement already satisfied: cycler>=0.10 in c:\\users\\shailesh\\appdata\\local\\programs\\python\\python310\\lib\\site-packages (from matplotlib!=3.6.1,>=3.4->seaborn) (0.12.1)\n",
      "Requirement already satisfied: fonttools>=4.22.0 in c:\\users\\shailesh\\appdata\\local\\programs\\python\\python310\\lib\\site-packages (from matplotlib!=3.6.1,>=3.4->seaborn) (4.56.0)\n",
      "Requirement already satisfied: kiwisolver>=1.3.1 in c:\\users\\shailesh\\appdata\\local\\programs\\python\\python310\\lib\\site-packages (from matplotlib!=3.6.1,>=3.4->seaborn) (1.4.8)\n",
      "Requirement already satisfied: packaging>=20.0 in c:\\users\\shailesh\\appdata\\local\\programs\\python\\python310\\lib\\site-packages (from matplotlib!=3.6.1,>=3.4->seaborn) (23.2)\n",
      "Requirement already satisfied: pillow>=8 in c:\\users\\shailesh\\appdata\\local\\programs\\python\\python310\\lib\\site-packages (from matplotlib!=3.6.1,>=3.4->seaborn) (11.1.0)\n",
      "Requirement already satisfied: pyparsing>=2.3.1 in c:\\users\\shailesh\\appdata\\local\\programs\\python\\python310\\lib\\site-packages (from matplotlib!=3.6.1,>=3.4->seaborn) (3.2.1)\n",
      "Requirement already satisfied: python-dateutil>=2.7 in c:\\users\\shailesh\\appdata\\local\\programs\\python\\python310\\lib\\site-packages (from matplotlib!=3.6.1,>=3.4->seaborn) (2.9.0.post0)\n",
      "Requirement already satisfied: pytz>=2020.1 in c:\\users\\shailesh\\appdata\\local\\programs\\python\\python310\\lib\\site-packages (from pandas>=1.2->seaborn) (2025.1)\n",
      "Requirement already satisfied: tzdata>=2022.7 in c:\\users\\shailesh\\appdata\\local\\programs\\python\\python310\\lib\\site-packages (from pandas>=1.2->seaborn) (2025.1)\n",
      "Requirement already satisfied: six>=1.5 in c:\\users\\shailesh\\appdata\\local\\programs\\python\\python310\\lib\\site-packages (from python-dateutil>=2.7->matplotlib!=3.6.1,>=3.4->seaborn) (1.17.0)\n",
      "Note: you may need to restart the kernel to use updated packages.\n"
     ]
    },
    {
     "name": "stderr",
     "output_type": "stream",
     "text": [
      "\n",
      "[notice] A new release of pip is available: 25.0.1 -> 25.1.1\n",
      "[notice] To update, run: python.exe -m pip install --upgrade pip\n"
     ]
    }
   ],
   "source": [
    "pip install seaborn"
   ]
  },
  {
   "cell_type": "code",
   "execution_count": 28,
   "id": "e79941e6-79b3-47c1-a582-dbc3df1d41f2",
   "metadata": {
    "scrolled": true
   },
   "outputs": [
    {
     "data": {
      "image/png": "[encoded data removed]",
      "text/plain": [
       "<Figure size 1000x800 with 2 Axes>"
      ]
     },
     "metadata": {},
     "output_type": "display_data"
    }
   ],
   "source": [
    "import seaborn as sns\n",
    "import matplotlib.pyplot as plt\n",
    "\n",
    "#plotting heatmap in order to visualise the similarity between users buyin same products-very optional...just for my understanding\n",
    "plt.figure(figsize=(10,8))\n",
    "sns.heatmap(similarity_df.iloc[:10, :10], cmap='viridis')\n",
    "plt.title('User Purchase Similarity')\n",
    "plt.show()"
   ]
  },
  {
   "cell_type": "markdown",
   "id": "47e66b78-077e-494e-8537-fb1e889c0bc7",
   "metadata": {},
   "source": [
    "# **User-Based Collaborative Filtering**"
   ]
  },
  {
   "cell_type": "code",
   "execution_count": 29,
   "id": "9b0ca404-28ac-403d-8e6c-4a9e7b90ea78",
   "metadata": {},
   "outputs": [],
   "source": [
    "t_user = 12347.0 #select a target user"
   ]
  },
  {
   "cell_type": "code",
   "execution_count": 30,
   "id": "18e3e201-80e6-4d32-8ddc-77a540ca7d88",
   "metadata": {
    "collapsed": true,
    "jupyter": {
     "outputs_hidden": true
    },
    "scrolled": true
   },
   "outputs": [
    {
     "name": "stdout",
     "output_type": "stream",
     "text": [
      "CustomerID\n",
      "14326.0    0.550763\n",
      "14257.0    0.532240\n",
      "12674.0    0.529955\n",
      "12355.0    0.506252\n",
      "16763.0    0.427662\n",
      "16761.0    0.427193\n",
      "13532.0    0.410891\n",
      "18276.0    0.406837\n",
      "17242.0    0.384841\n",
      "12452.0    0.384799\n",
      "Name: 12347.0, dtype: float64\n"
     ]
    }
   ],
   "source": [
    "similar_users = similarity_df.loc[t_user].sort_values(ascending=False).iloc[1:11] #get top similar users\n",
    "print(similar_users)"
   ]
  },
  {
   "cell_type": "code",
   "execution_count": 31,
   "id": "566ab5aa-58dd-4e80-8d44-51d3d18abe66",
   "metadata": {},
   "outputs": [],
   "source": [
    "similar_user_purchases = user_item_matrix.loc[similar_users.index]"
   ]
  },
  {
   "cell_type": "code",
   "execution_count": 32,
   "id": "bf8f6002-0cc1-46ad-a1ba-a9df89439f11",
   "metadata": {},
   "outputs": [],
   "source": [
    "mean_product_scores = similar_user_purchases.mean(axis=0)"
   ]
  },
  {
   "cell_type": "code",
   "execution_count": 33,
   "id": "b571014d-c5ce-4967-badf-bd63b9392281",
   "metadata": {
    "collapsed": true,
    "jupyter": {
     "outputs_hidden": true
    }
   },
   "outputs": [
    {
     "data": {
      "text/plain": [
       "StockCode\n",
       "10002    0.0\n",
       "10080    0.0\n",
       "10120    0.0\n",
       "10125    0.0\n",
       "10133    0.0\n",
       "        ... \n",
       "C2       0.0\n",
       "DOT      0.0\n",
       "M        0.0\n",
       "PADS     0.0\n",
       "POST     1.1\n",
       "Length: 3665, dtype: float64"
      ]
     },
     "execution_count": 33,
     "metadata": {},
     "output_type": "execute_result"
    }
   ],
   "source": [
    "mean_product_scores"
   ]
  },
  {
   "cell_type": "code",
   "execution_count": 34,
   "id": "9f2ebe80-5e10-4d91-b905-5fb54850d0bb",
   "metadata": {},
   "outputs": [],
   "source": [
    "targetuser_products = user_item_matrix.loc[t_user] #this only focuses on the target user and the product columns involving target user"
   ]
  },
  {
   "cell_type": "code",
   "execution_count": 35,
   "id": "013f5145-68e6-4aa9-8162-1f2103f5fa1b",
   "metadata": {
    "collapsed": true,
    "jupyter": {
     "outputs_hidden": true
    },
    "scrolled": true
   },
   "outputs": [
    {
     "data": {
      "text/plain": [
       "StockCode\n",
       "10002    0\n",
       "10080    0\n",
       "10120    0\n",
       "10125    0\n",
       "10133    0\n",
       "        ..\n",
       "C2       0\n",
       "DOT      0\n",
       "M        0\n",
       "PADS     0\n",
       "POST     0\n",
       "Name: 12347.0, Length: 3665, dtype: int64"
      ]
     },
     "execution_count": 35,
     "metadata": {},
     "output_type": "execute_result"
    }
   ],
   "source": [
    "targetuser_products"
   ]
  },
  {
   "cell_type": "code",
   "execution_count": 36,
   "id": "99be32d5-3c46-458b-a2a0-d1662dcb0f3d",
   "metadata": {},
   "outputs": [],
   "source": [
    "items_boughtbytuser = targetuser_products[targetuser_products > 0].index \n",
    "#this only shows the items bought from the abover targetuser_products table for target user"
   ]
  },
  {
   "cell_type": "code",
   "execution_count": 37,
   "id": "95192e53-dc63-4c69-a413-03d23194ea46",
   "metadata": {
    "collapsed": true,
    "jupyter": {
     "outputs_hidden": true
    },
    "scrolled": true
   },
   "outputs": [
    {
     "data": {
      "text/plain": [
       "Index([   16008,    17021,    20665,    20719,    20780,    20782,    20966,\n",
       "          21035,    21041,    21064,\n",
       "       ...\n",
       "       '84558A', '84559A', '84559B', '84625A', '84625C', '84997B', '84997C',\n",
       "       '84997D', '85167B', '85232D'],\n",
       "      dtype='object', name='StockCode', length=103)"
      ]
     },
     "execution_count": 37,
     "metadata": {},
     "output_type": "execute_result"
    }
   ],
   "source": [
    "items_boughtbytuser"
   ]
  },
  {
   "cell_type": "code",
   "execution_count": 38,
   "id": "a7b8a426-aabb-4ca7-8e58-dac114b5ad12",
   "metadata": {},
   "outputs": [],
   "source": [
    "#now finally recommending\n",
    "recommend_productstotuser = mean_product_scores.drop(items_boughtbytuser)"
   ]
  },
  {
   "cell_type": "code",
   "execution_count": 39,
   "id": "470d995f-1a0e-469e-8892-0f91bf4775ae",
   "metadata": {},
   "outputs": [
    {
     "name": "stdout",
     "output_type": "stream",
     "text": [
      "Top recommended products for: 12347.0\n",
      "StockCode\n",
      "23077    18.0\n",
      "22614     7.2\n",
      "22693     7.2\n",
      "22418     7.2\n",
      "20725     6.0\n",
      "dtype: float64\n"
     ]
    }
   ],
   "source": [
    "top_recommendations = recommend_productstotuser.sort_values(ascending=False).head(5)\n",
    "print(\"Top recommended products for:\", t_user)\n",
    "print(top_recommendations)"
   ]
  },
  {
   "cell_type": "markdown",
   "id": "c6dc8cd6-a6fc-4a11-889d-ca2d51bc6777",
   "metadata": {},
   "source": [
    "# **Function to Analyze and Print Recommendation**"
   ]
  },
  {
   "cell_type": "code",
   "execution_count": 45,
   "id": "722651e7-445d-46b4-9969-9d1fec4d0b43",
   "metadata": {},
   "outputs": [],
   "source": [
    "product_lookup = rproducts[[ 'Description', 'StockCode' ]].dropna().drop_duplicates()"
   ]
  },
  {
   "cell_type": "code",
   "execution_count": 49,
   "id": "0b1c5606-2135-4f85-9abb-14ee652c2345",
   "metadata": {},
   "outputs": [],
   "source": [
    "def recommend_products(user_id, user_product_matrix, similarity_matrix, n=5):\n",
    "    if user_id not in user_product_matrix.index:     #check whether the given userid exist in the pivot table or not\n",
    "        print(f\"User ID {user_id} not found!\")\n",
    "        return None\n",
    "        \n",
    "    similar_users = similarity_matrix.loc[user_id].sort_values(ascending=False).iloc[1:6]   #get similar users as the target user\n",
    "\n",
    "    similar_users_purchases = user_product_matrix.loc[similar_users.index]                  #get their purchase data\n",
    "    mean_scoreof_products = similar_users_purchases.mean(axis=0)                            #get average score of the quantities purchased by them\n",
    "\n",
    "    tuser_purchase = user_product_matrix.loc[user_id]\n",
    "    items_boughtby_tuser = tuser_purchase[tuser_purchase > 0].index \n",
    "\n",
    "    recommend_productsto_tuser = mean_product_scores.drop(items_boughtby_tuser)\n",
    "\n",
    "    recs_df = recommend_productsto_tuser.sort_values(ascending=False).head(n).reset_index()\n",
    "    recs_df.columns = [ 'StockCode', 'Score' ]\n",
    "\n",
    "    merged = pd.merge(recs_df, product_lookup, on='StockCode', how='inner')\n",
    "\n",
    "    print(f\"Top recommendations for user {user_id} are:\")\n",
    "    return merged[[ 'StockCode', 'Description', 'Score' ]]"
   ]
  },
  {
   "cell_type": "code",
   "execution_count": 48,
   "id": "695044ad-faba-47f9-83ef-496fc66f6aa5",
   "metadata": {},
   "outputs": [
    {
     "name": "stdout",
     "output_type": "stream",
     "text": [
      "Top recommendations for user 12347.0 are:\n"
     ]
    },
    {
     "data": {
      "text/html": [
       "<div>\n",
       "<style scoped>\n",
       "    .dataframe tbody tr th:only-of-type {\n",
       "        vertical-align: middle;\n",
       "    }\n",
       "\n",
       "    .dataframe tbody tr th {\n",
       "        vertical-align: top;\n",
       "    }\n",
       "\n",
       "    .dataframe thead th {\n",
       "        text-align: right;\n",
       "    }\n",
       "</style>\n",
       "<table border=\"1\" class=\"dataframe\">\n",
       "  <thead>\n",
       "    <tr style=\"text-align: right;\">\n",
       "      <th></th>\n",
       "      <th>StockCode</th>\n",
       "      <th>Description</th>\n",
       "      <th>Score</th>\n",
       "    </tr>\n",
       "  </thead>\n",
       "  <tbody>\n",
       "    <tr>\n",
       "      <th>0</th>\n",
       "      <td>23077</td>\n",
       "      <td>DOUGHNUT LIP GLOSS</td>\n",
       "      <td>18.0</td>\n",
       "    </tr>\n",
       "    <tr>\n",
       "      <th>1</th>\n",
       "      <td>22614</td>\n",
       "      <td>PACK OF 12 SPACEBOY TISSUES</td>\n",
       "      <td>7.2</td>\n",
       "    </tr>\n",
       "    <tr>\n",
       "      <th>2</th>\n",
       "      <td>22693</td>\n",
       "      <td>GROW A FLYTRAP OR SUNFLOWER IN TIN</td>\n",
       "      <td>7.2</td>\n",
       "    </tr>\n",
       "    <tr>\n",
       "      <th>3</th>\n",
       "      <td>22418</td>\n",
       "      <td>10 COLOUR SPACEBOY PEN</td>\n",
       "      <td>7.2</td>\n",
       "    </tr>\n",
       "    <tr>\n",
       "      <th>4</th>\n",
       "      <td>20725</td>\n",
       "      <td>LUNCH BAG RED RETROSPOT</td>\n",
       "      <td>6.0</td>\n",
       "    </tr>\n",
       "    <tr>\n",
       "      <th>5</th>\n",
       "      <td>20725</td>\n",
       "      <td>LUNCH BAG RED SPOTTY</td>\n",
       "      <td>6.0</td>\n",
       "    </tr>\n",
       "  </tbody>\n",
       "</table>\n",
       "</div>"
      ],
      "text/plain": [
       "  StockCode                         Description  Score\n",
       "0     23077                  DOUGHNUT LIP GLOSS   18.0\n",
       "1     22614         PACK OF 12 SPACEBOY TISSUES    7.2\n",
       "2     22693  GROW A FLYTRAP OR SUNFLOWER IN TIN    7.2\n",
       "3     22418              10 COLOUR SPACEBOY PEN    7.2\n",
       "4     20725             LUNCH BAG RED RETROSPOT    6.0\n",
       "5     20725                LUNCH BAG RED SPOTTY    6.0"
      ]
     },
     "execution_count": 48,
     "metadata": {},
     "output_type": "execute_result"
    }
   ],
   "source": [
    "recommend_products(12347.0, user_item_matrix, similarity_df, n=5)"
   ]
  },
  {
   "cell_type": "code",
   "execution_count": null,
   "id": "cdd39f2d-8947-49cb-91b1-a3a2daf79e4d",
   "metadata": {},
   "outputs": [],
   "source": []
  }
 ],
 "metadata": {
  "kernelspec": {
   "display_name": "Python 3 (ipykernel)",
   "language": "python",
   "name": "python3"
  },
  "language_info": {
   "codemirror_mode": {
    "name": "ipython",
    "version": 3
   },
   "file_extension": ".py",
   "mimetype": "text/x-python",
   "name": "python",
   "nbconvert_exporter": "python",
   "pygments_lexer": "ipython3",
   "version": "3.10.0"
  }
 },
 "nbformat": 4,
 "nbformat_minor": 5
}
